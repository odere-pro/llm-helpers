{
 "cells": [
  {
   "cell_type": "markdown",
   "metadata": {},
   "source": [
    "## Import dependencies"
   ]
  },
  {
   "cell_type": "code",
   "execution_count": 19,
   "metadata": {},
   "outputs": [],
   "source": [
    "import random\n",
    "import asyncio\n",
    "import json\n",
    "import time"
   ]
  },
  {
   "cell_type": "markdown",
   "metadata": {},
   "source": [
    "## Code snippets"
   ]
  },
  {
   "cell_type": "code",
   "execution_count": 20,
   "metadata": {},
   "outputs": [],
   "source": [
    "def randomize(min_val=1, max_val=10):\n",
    "    return random.randint(min_val, max_val)\n",
    "\n",
    "async def jitter(min_delay=1, max_delay=10):\n",
    "    delay = randomize(min_delay, max_delay)\n",
    "    await asyncio.sleep(delay/1000)\n",
    "\n",
    "def split_string(text):\n",
    "    result = []\n",
    "    index = 0\n",
    "    while index < len(text):\n",
    "        token_length = randomize()\n",
    "        token = text[index:index+token_length]\n",
    "        result.append(token)\n",
    "        index += token_length\n",
    "    return result\n",
    "\n",
    "def generate_stream_chunks(text):\n",
    "  tokens = split_string(text)\n",
    "  data = [\n",
    "    {\n",
    "      'id': str(index),\n",
    "      'system_fingerprint': f'{int(time.time())}-{index}',\n",
    "      'content': item,\n",
    "    } for index, item in enumerate(tokens)\n",
    "  ]\n",
    "  return [f'{json.dumps(item)}\\n' for item in data]\n",
    "\n",
    "async def mock_stream_answer(text, min_delay=0, max_delay=300):\n",
    "  chunks = generate_stream_chunks(text)\n",
    "\n",
    "  for chunk in chunks:\n",
    "    await jitter(min_delay, max_delay)\n",
    "    yield json.loads(chunk)\n"
   ]
  },
  {
   "cell_type": "markdown",
   "metadata": {},
   "source": [
    "## Test"
   ]
  },
  {
   "cell_type": "code",
   "execution_count": null,
   "metadata": {},
   "outputs": [],
   "source": [
    "async def main():\n",
    "    def generate_lorem_ipsum(length):\n",
    "        lorem_ipsum = \"Lorem ipsum dolor sit amet, consectetur adipiscing elit. Sed non risus. Suspendisse lectus tortor, dignissim sit amet, adipiscing nec, ultricies sed, dolor. Cras elementum ultrices diam. Maecenas ligula massa, varius a, semper congue, euismod non, mi.\"\n",
    "        result = \"\"\n",
    "        while len(result) < length:\n",
    "            result += lorem_ipsum\n",
    "        return result[:length]\n",
    "\n",
    "    text = generate_lorem_ipsum(300)\n",
    "\n",
    "    async for chunk in mock_stream_answer(text):\n",
    "        print(chunk)\n",
    "\n",
    "await main()"
   ]
  }
 ],
 "metadata": {
  "kernelspec": {
   "display_name": "base",
   "language": "python",
   "name": "python3"
  },
  "language_info": {
   "codemirror_mode": {
    "name": "ipython",
    "version": 3
   },
   "file_extension": ".py",
   "mimetype": "text/x-python",
   "name": "python",
   "nbconvert_exporter": "python",
   "pygments_lexer": "ipython3",
   "version": "3.11.5"
  }
 },
 "nbformat": 4,
 "nbformat_minor": 2
}
